{
 "cells": [
  {
   "cell_type": "code",
   "execution_count": 1,
   "metadata": {},
   "outputs": [],
   "source": [
    "import urllib.request, urllib.parse, urllib.error\n",
    "from bs4 import BeautifulSoup"
   ]
  },
  {
   "cell_type": "code",
   "execution_count": 2,
   "metadata": {},
   "outputs": [],
   "source": [
    "url = \"https://www.scholarships.com/financial-aid/college-scholarships/scholarships-by-type/university-scholarships/\"\n",
    "#with this, we are able to make a data scrape from a list of university scholarships \n"
   ]
  },
  {
   "cell_type": "code",
   "execution_count": 3,
   "metadata": {},
   "outputs": [],
   "source": [
    "uh = urllib.request.urlopen(url)"
   ]
  },
  {
   "cell_type": "code",
   "execution_count": 4,
   "metadata": {},
   "outputs": [
    {
     "name": "stderr",
     "output_type": "stream",
     "text": [
      "C:\\Users\\Kevin\\Anaconda3\\lib\\site-packages\\bs4\\__init__.py:181: UserWarning: No parser was explicitly specified, so I'm using the best available HTML parser for this system (\"lxml\"). This usually isn't a problem, but if you run this code on another system, or in a different virtual environment, it may use a different parser and behave differently.\n",
      "\n",
      "The code that caused this warning is on line 193 of the file C:\\Users\\Kevin\\Anaconda3\\lib\\runpy.py. To get rid of this warning, change code that looks like this:\n",
      "\n",
      " BeautifulSoup(YOUR_MARKUP})\n",
      "\n",
      "to this:\n",
      "\n",
      " BeautifulSoup(YOUR_MARKUP, \"lxml\")\n",
      "\n",
      "  markup_type=markup_type))\n"
     ]
    }
   ],
   "source": [
    "soup = BeautifulSoup(uh.read())"
   ]
  },
  {
   "cell_type": "code",
   "execution_count": 5,
   "metadata": {},
   "outputs": [],
   "source": [
    "scholar = soup.find(\"div\", attrs={\"class\":\"innercontent\"})"
   ]
  },
  {
   "cell_type": "code",
   "execution_count": 19,
   "metadata": {},
   "outputs": [
    {
     "name": "stdout",
     "output_type": "stream",
     "text": [
      "{'Augustana University Diversity Scholarships': 'Varies', 'Augustana University Hatterscheidt Scholarship': '3/15/2019', 'Baylor University Baptist Scholarships': 'Varies', 'Boston University Robert Noyce Scholarship Programs': 'Varies', 'CCU Athletics Scholarship': 'Varies', 'Chicago Police and Fire Scholarship - UChicago ': 'Varies', 'Chicago Public Schools (CPS) Scholarships': 'Varies', 'Clark University Presidential LEEP Scholarship ': '1/15/2019', 'Colorado Christian University Commendation Scholarship': 'Varies', \"Colorado Christian University Dean's Scholarship\": 'Varies', 'Colorado Christian University Distinction Scholarship': 'Varies', 'Colorado Christian University First Generation Minority Scholarship': 'Varies', 'Colorado Christian University Grant': 'Varies', 'Colorado Christian University Honors Scholarship': 'Varies', 'Colorado Christian University Legacy Scholarship': '5/1/2019', 'Colorado Christian University Partners in Christian Education Scholarship': '5/1/2019', 'Colorado Christian University Partners in Spiritual Formation Scholarship': '5/1/2019', \"Colorado Christian University President's Scholarship\": 'Varies', 'Colorado Christian University Recognition Scholarship': 'Varies', 'Colorado Christian University School of Music Scholarship': '3/1/2019', \"Colorado Christian University Trustees' Scholarship\": 'Varies', \"Colorado Mesa University's Academic Achievement Award\": 'Varies', \"Colorado Mesa University's Distinguished Scholar Award \": 'Varies', \"Colorado Mesa University's First Generation Scholarship\": 'Varies', \"Colorado Mesa University's Legacy Scholarship\": 'Varies', \"Colorado Mesa University's Presidential Scholarship\": 'Varies', \"Colorado Mesa University's Trustee Scholarship\": 'Varies', 'DeSales University Catholic Schools Grants ': 'Varies', 'DeSales University Presidential Scholarships': '12/1/2019', 'DeSales University Trustee Scholarships': '12/1/2019', 'DeSales University Tuition Incentive Program': 'Varies', 'Eastern Michigan University Presidential Scholarship': 'Varies', 'Frederick Douglass Institute Postdoctoral Fellowship Program at the University of Rochester': 'Varies', 'Frederick R. Layton Art Scholarship ': 'Varies', 'FSU Freshmen Scholarship': 'Varies', 'Furman University Art Scholarships': 'Varies', 'Furman University Furman Scholars Program': '6/1/2019', 'Furman University National Merit Scholarships': 'Varies', 'Hardin-Simmons University Endowed Scholarships for Ministerial Students': '7/15/2019', 'Heidelberg University Academic Award': 'Varies', 'Heidelberg University Faculty Scholarship': 'Varies', 'Heidelberg University Grant': 'Varies', 'Heidelberg University Out-Of-State Grant': 'Varies', 'Heidelberg University Phi Theta Kappa Scholarship': 'Varies', 'Heidelberg University Transfer Academic Award': 'Varies', 'Heidelberg University UCC Grant': 'Varies', 'Indiana State University Jack E. and Virginia Carpenter Fine Arts Scholarship': 'Varies', 'Lipscomb University Scout Award': 'Varies', 'Loyola University Catholic Heritage Award': '12/1/2019', 'Loyola University Cristo Rey Scholars Program': '3/1/2019', 'Loyola University Ignatian Scholarships for Academic Excellence': '2/15/2019', 'Loyola University Merit Scholarships': '2/15/2019', 'Loyola University Zolp Scholarship': '12/1/2019', 'Matching Dollar Scholarship Program': '12/1/2019', 'McNeese State University Foundation Scholarships': '12/1/2019', 'Miami University (OH) Merit Scholarships': '12/1/2019', 'Miami University National Merit Scholarships ': 'Varies', 'Morehead State University Graduate Assistantship Program': 'Varies', 'MSU Moorhead University Scholarships': 'Varies', 'Niagara University Achievement Award': 'Varies', 'Niagara University Athletic Scholarships': 'Varies', 'Niagara University Grants': 'Varies', 'Niagara University Presidential Scholarship': 'Varies', 'Niagara University Transfer Student Scholarships': 'Varies', 'Niagara University Trustees Scholarships': 'Varies', 'Northern State University Music Scholarships': '2/1/2019', 'Northwestern University Scholarship': 'Varies', 'Northwood University Free Enterprise Transfer Scholarships': 'Varies', 'Northwood University Freedom Transfer Scholarships': 'Varies', 'Oakland University Critical Difference Scholarship ': 'Varies', 'Odyssey Scholarships': 'Varies', 'Oklahoma Christian University Current Student Biblical Studies Scholarship': '3/1/2019', 'Oklahoma Christian University New Student Biblical Studies Scholarship': '3/1/2019', 'Palmetto Fellows': 'Varies', 'Post-Graduate Fellowships for 3Ls': 'Varies', 'Sachs Foundation University of Colorado School of Dental Medicine Scholarship': '3/15/2019', 'San Jose State University Scholarships': 'Varies', 'Sonoma State University Scholarships': '1/15/2019', 'Tarleton State University General Scholarships': '2/15/2019', 'Tarleton State University Presidential Honors Program': '2/15/2019', \"Taylor University President's Scholarship\": 'Varies', 'Texas A&M University - Century Scholars Program': '12/1/2019', 'Texas A&M University - Lechner Scholarship': '1/2/2019', 'Texas A&M University - McFadden Scholarship': '12/1/2019', 'U-M Alumnae Club (University of Michigan) Scholarship': '3/1/2019', 'University of Colorado Boulder First Generation Grant': 'Varies', 'University of Georgia Foundation Fellowship': '11/1/2019', 'University of Great Falls Academic Merit Scholarship': 'Varies', 'University of New Mexico Presidential Scholarship': '12/1/2019', 'University of Rochester Youth Orchestra Scholarship': '2/15/2019', \"University of Tennessee at Chattanooga Provost's Scholars Program\": '12/1/2019', \"University of Tennessee Chattanooga Chancellor's Scholars\": '12/1/2019', 'Valparaiso University Allen Scholarship': '1/6/2019', 'Valparaiso University Ament-Benner Scholarship': '3/1/2019', 'Valparaiso University Award for Excellence': '5/1/2019', 'Valparaiso University Ed Voelz Endowed Scholarship': 'Varies', 'Valparaiso University Lutheran Leadership Award': '12/15/2018', 'Valparaiso University Martin Luther Award': 'Varies', 'William Woods University Amy Shelton McNutt Scholarship': 'Varies', 'William Woods University Disciples of Christ Grant': '5/1/2019', 'Wittenberg University Music Scholarship': '3/1/2019'}\n"
     ]
    }
   ],
   "source": [
    "#scholarship = title, deadline = application deadline\n",
    "scholarship = []\n",
    "deadline = []\n",
    "#assign values to scholarship and deadline\n",
    "for div in scholar.findAll('div'):\n",
    "    if div.find('h3'):\n",
    "        scholarship.append(div.find('h3').text)\n",
    "    if div.find('li'):\n",
    "        deadline.append(div.find('li').text)\n",
    "\n",
    "#clean scholarship\n",
    "scholarship_temp = []\n",
    "for a in scholarship:\n",
    "    scholarship_temp.append(a.replace('\\n',''))\n",
    "    \n",
    "#clean deadline\n",
    "deadline_temp = []\n",
    "for thing in deadline:\n",
    "    thing = thing.replace(\"\\r\\n\", \"\")\n",
    "    thing = thing.replace(\"Application Deadline:\", \"\")\n",
    "    thing = thing.strip()\n",
    "    deadline_temp.append(thing)\n",
    "\n",
    "#reassign temp to original\n",
    "scholarship = scholarship_temp\n",
    "deadline = deadline_temp\n",
    "\n",
    "#ssm = Scholarship Match Dictionary\n",
    "ssm = {}\n",
    "count = 0\n",
    "#assign scholarships to their respective deadlines\n",
    "while count < len(scholarship): \n",
    "    ssm[scholarship[count]] = deadline[count]\n",
    "    count += 1\n",
    "    \n",
    "print(ssm)"
   ]
  },
  {
   "cell_type": "code",
   "execution_count": 8,
   "metadata": {},
   "outputs": [
    {
     "name": "stdout",
     "output_type": "stream",
     "text": [
      "Are you currently attending college (Yes/No)Yes\n",
      "Are you a veteran (Yes/No)No\n",
      "Are you a male or femalemale\n"
     ]
    }
   ],
   "source": [
    "college = input('Are you currently attending college (Yes/No)')\n",
    "veteran = input('Are you a veteran (Yes/No)')\n",
    "gender = input('Are you a male or female')\n",
    "\n",
    "user_info = [college]"
   ]
  }
 ],
 "metadata": {
  "kernelspec": {
   "display_name": "Python 3",
   "language": "python",
   "name": "python3"
  },
  "language_info": {
   "codemirror_mode": {
    "name": "ipython",
    "version": 3
   },
   "file_extension": ".py",
   "mimetype": "text/x-python",
   "name": "python",
   "nbconvert_exporter": "python",
   "pygments_lexer": "ipython3",
   "version": "3.6.5"
  }
 },
 "nbformat": 4,
 "nbformat_minor": 2
}
